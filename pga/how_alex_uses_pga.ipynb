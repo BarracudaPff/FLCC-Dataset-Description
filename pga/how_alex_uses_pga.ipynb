{
 "cells": [
  {
   "cell_type": "markdown",
   "metadata": {},
   "source": [
    "1)Устанавливаем pga: https://github.com/src-d/datasets/tree/master/PublicGitArchive/pga"
   ]
  },
  {
   "cell_type": "code",
   "execution_count": 1,
   "metadata": {},
   "outputs": [],
   "source": [
    "%%bash\n",
    "#записываем в файл данные репозиториев у которых язык python \n",
    "# и ссылка на git содержит github.com/hacktoon\n",
    "pga list -l python -u github.com -f json > list_repos.txt"
   ]
  },
  {
   "cell_type": "code",
   "execution_count": 2,
   "metadata": {},
   "outputs": [],
   "source": [
    "import json\n",
    "\n",
    "with open(\"list_repos.txt\", \"r\") as dsc:\n",
    "    jsons = list(map(json.loads, dsc.readlines()))"
   ]
  },
  {
   "cell_type": "code",
   "execution_count": 3,
   "metadata": {},
   "outputs": [],
   "source": [
    "#можно еще пофильтровать ... \n",
    "out_siva = [item for x in jsons for item in x['sivaFilenames']]"
   ]
  },
  {
   "cell_type": "code",
   "execution_count": 4,
   "metadata": {},
   "outputs": [],
   "source": [
    "with open(\"list_siva.txt\", \"w+\") as dsc:\n",
    "    for item in out_siva:\n",
    "        dsc.write(\"%s\\n\" % item)\n"
   ]
  },
  {
   "cell_type": "code",
   "execution_count": 5,
   "metadata": {},
   "outputs": [
    {
     "name": "stdout",
     "output_type": "stream",
     "text": [
      " 1 / 1  100.00%"
     ]
    },
    {
     "name": "stderr",
     "output_type": "stream",
     "text": [
      "downloading siva files by name from stdin\n",
      "filter flags will be ignored\n"
     ]
    }
   ],
   "source": [
    "%%bash\n",
    "#скачает siva файлы \n",
    "cat list_siva.txt | pga get -i -o repos"
   ]
  },
  {
   "cell_type": "markdown",
   "metadata": {},
   "source": [
    "Скачали siva файл теперь его нужно распаковать ...  \n",
    "Устанавливаем: https://github.com/src-d/go-siva"
   ]
  },
  {
   "cell_type": "code",
   "execution_count": 6,
   "metadata": {},
   "outputs": [],
   "source": [
    "%%bash\n",
    "#распаковали siva файл в папку `siva` \n",
    "siva unpack ./repos/siva/latest/63/63d374207b3322bcb3399f7c3a342b32ef306892.siva ./siva/.git"
   ]
  },
  {
   "cell_type": "markdown",
   "metadata": {},
   "source": [
    "Теперь в папке `siva` лежит git репозиторий, для того чтобы увидеть содержимое перейди в любую ветку.  \n",
    "Посмотреть ветки можно `git branch` перейти `git checkout` *name branch*"
   ]
  },
  {
   "cell_type": "code",
   "execution_count": 89,
   "metadata": {},
   "outputs": [],
   "source": [
    "%%bash\n",
    "#удаляет файлы в которых хранили промежуточную инфу \n",
    "#rm -f list_repos.txt list_siva.txt\n",
    "#rm -rf repos siva"
   ]
  },
  {
   "cell_type": "code",
   "execution_count": null,
   "metadata": {},
   "outputs": [],
   "source": []
  }
 ],
 "metadata": {
  "kernelspec": {
   "display_name": "Python 3",
   "language": "python",
   "name": "python3"
  },
  "language_info": {
   "codemirror_mode": {
    "name": "ipython",
    "version": 3
   },
   "file_extension": ".py",
   "mimetype": "text/x-python",
   "name": "python",
   "nbconvert_exporter": "python",
   "pygments_lexer": "ipython3",
   "version": "3.6.8"
  }
 },
 "nbformat": 4,
 "nbformat_minor": 2
}

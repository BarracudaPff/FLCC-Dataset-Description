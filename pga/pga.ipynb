{
 "cells": [
  {
   "cell_type": "code",
   "execution_count": 119,
   "metadata": {},
   "outputs": [],
   "source": [
    "import os\n",
    "import subprocess\n",
    "import shutil\n",
    "import ast\n",
    "\n",
    "MAX_FILES_NUMBER = 150000"
   ]
  },
  {
   "cell_type": "code",
   "execution_count": 120,
   "metadata": {},
   "outputs": [],
   "source": [
    "def do_bash_command(bash_command):\n",
    "    process = subprocess.Popen(bash_command.split(), stdout=subprocess.PIPE)\n",
    "    output, error = process.communicate()\n",
    "    return output\n",
    "\n",
    "def is_py3_file(fileName):\n",
    "    code_data = open(fileName).read()\n",
    "    try:\n",
    "        ast.parse(code_data)\n",
    "        return True\n",
    "    except SyntaxError:\n",
    "        return False\n",
    "\n",
    "\n",
    "def get_py3_files(directory):\n",
    "    print(\"get_py3_files func\")\n",
    "    files_count = 0\n",
    "    for root, dirs, files in os.walk(directory):\n",
    "        path = root.split(os.sep)\n",
    "        for file in files:\n",
    "            if file.endswith(\".py\") and is_py3_file(file):\n",
    "                print(file)\n",
    "                files_count += 1\n",
    "                shutil.copy(file, 'dataset_py3')\n",
    "    return files_count"
   ]
  },
  {
   "cell_type": "code",
   "execution_count": 121,
   "metadata": {},
   "outputs": [],
   "source": [
    "%%bash\n",
    "#записываем в файл данные репозиториев у которых язык python \n",
    "pga list -l python -f json > list_repos.txt"
   ]
  },
  {
   "cell_type": "code",
   "execution_count": 122,
   "metadata": {},
   "outputs": [],
   "source": [
    "with open(\"list_repos.txt\", \"r\") as dsc:\n",
    "    jsons = list(map(json.loads, dsc.readlines()))"
   ]
  },
  {
   "cell_type": "code",
   "execution_count": 125,
   "metadata": {},
   "outputs": [],
   "source": [
    "out_siva = [item for x in jsons for item in x['sivaFilenames']]\n",
    "#сокращенный список siva файлов для тестирования\n",
    "short_siva = out_siva[0:1]\n",
    "\n",
    "with open(\"list_siva.txt\", \"w+\") as dsc:\n",
    "    for item in short_siva:\n",
    "        dsc.write(\"%s\\n\" % item)"
   ]
  },
  {
   "cell_type": "code",
   "execution_count": null,
   "metadata": {},
   "outputs": [],
   "source": [
    "#скачиваем siva файлы\n",
    "os.system(\"cat list_siva.txt | pga get -i -o repos\")\n",
    "\n",
    "cwd = os.getcwd()\n",
    "do_bash_command(\"mkdir dataset_py3\")\n",
    "\n",
    "#распаковка репозиториев и отбор py3 файлов\n",
    "for root, dirs, files in os.walk(\"repos\"):\n",
    "    path = root.split(os.sep)\n",
    "    files_total = 0\n",
    "    for file in files:\n",
    "        if file.endswith(\".siva\"):\n",
    "            do_bash_command(\"mkdir siva\")\n",
    "            unpack_siva_command = \"siva unpack \" + root + \"/\" + file + \" \" + \"./siva/.git\"\n",
    "            print(unpack_siva_command)\n",
    "            do_bash_command(unpack_siva_command)            \n",
    "            files_total += get_py3_files(\"siva\")\n",
    "#            удаление промежуточных файлов\n",
    "#             shutil.rmtree(\"siva\")\n",
    "            if (files_total > MAX_FILES_NUMBER):\n",
    "                break\n",
    "                \n",
    "                \n",
    "print(files_total,  \" python3 files were selected\")"
   ]
  },
  {
   "cell_type": "code",
   "execution_count": null,
   "metadata": {},
   "outputs": [],
   "source": []
  }
 ],
 "metadata": {
  "kernelspec": {
   "display_name": "Python 3",
   "language": "python",
   "name": "python3"
  },
  "language_info": {
   "codemirror_mode": {
    "name": "ipython",
    "version": 3
   },
   "file_extension": ".py",
   "mimetype": "text/x-python",
   "name": "python",
   "nbconvert_exporter": "python",
   "pygments_lexer": "ipython3",
   "version": "3.6.8"
  }
 },
 "nbformat": 4,
 "nbformat_minor": 2
}
